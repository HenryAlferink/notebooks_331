{
 "cells": [
  {
   "cell_type": "markdown",
   "metadata": {},
   "source": [
    "# ENGSCI 331 - Ordinary Differential Equations (ODEs)\n",
    "\n",
    "## Overview of Notebook\n",
    "\n",
    "The following notebook contains demos of numerical solution methods for ODEs."
   ]
  },
  {
   "cell_type": "markdown",
   "metadata": {},
   "source": [
    "## Visualisation 1: Numerical Solution Methods\n",
    "\n",
    "Solve one of several different ODEs with a variety of different numerical solution methods. Optionally see the individual derivative evaluations used."
   ]
  },
  {
   "cell_type": "code",
   "execution_count": null,
   "metadata": {
    "scrolled": false
   },
   "outputs": [],
   "source": [
    "from functions_engsci331_ode import demo_methods\n",
    "demo_methods()\n",
    "\n",
    "# OPTIONS\n",
    "#\n",
    "# Left column\n",
    "# Step Size: changes h in the solution method.\n",
    "# Steps: number of steps to solve for.\n",
    "# y(0): the initial condition of the first-order ODE.\n",
    "#\n",
    "# Middle column\n",
    "# Derivative: choose from several different derivative functions\n",
    "# Solution Method: choose from several different numerical solution methods.\n",
    "# Number of Derivative Evaluations: select number of derivative evaluations to show explicitly.\n",
    "#\n",
    "# Right column\n",
    "# Zoom In: limits the plotting window to better show the next step.\n",
    "# Show Next Step: shows the next step of the solution method. Linked to 'Number of Derivative Evaluations'.\n",
    "# Show Derivative Field: shows a scalar field of local derivatives for the given ODE."
   ]
  },
  {
   "cell_type": "markdown",
   "metadata": {},
   "source": [
    "## Visualisation 2: Second-Order Runge-Kutta Methods\n",
    "Numerical solution of an ODE for a customisable RK2 solution method. Note that $\\beta=\\gamma=1$ is equivalent to the Improved Euler method, and is one possible RK2 scheme. In many cases, different choices for $\\beta$ will lead to a similar numerical solution, but with different locations for the derivative evaluations. Recall that as $\\beta$ changes, so does the weighting given to each derivative evaluation, ensuring same-order accuracy for all RK2 methods regardless of choice of $\\beta$."
   ]
  },
  {
   "cell_type": "code",
   "execution_count": null,
   "metadata": {},
   "outputs": [],
   "source": [
    "from functions_engsci331_ode import demo_rk2\n",
    "demo_rk2()\n",
    "\n",
    "# OPTIONS\n",
    "#\n",
    "# Left column\n",
    "# Step Size: changes h in the solution method.\n",
    "# Steps: number of steps to solve for.\n",
    "# y(0): the initial condition of the ODE.\n",
    "#\n",
    "# Middle column\n",
    "# Derivative: choose from several different derivative functions\n",
    "# Beta: this is the value for beta and gamma i.e. how far along a given step at which to evaluate the next derivative.\n",
    "#       the weighting given to each derivative evaluation will change to satisfy this being a second-order method.\n",
    "# Derivative Evaluations: select number of derivative evaluations to show explicitly. Tied to solution method.\n",
    "#\n",
    "# Right column\n",
    "# Zoom In Figure: attempts to limit the plotting window to the step just taken.\n",
    "# Show Next Derivative Evaluations: shows the various Derivative Evaluations used in a given solution method.\n",
    "# Show Derivative Scalar Fields: shows the local derivative scalar field."
   ]
  },
  {
   "cell_type": "markdown",
   "metadata": {},
   "source": [
    "## Visualisation 3: Numerical Error\n",
    "Solve an ODE numerically using up to three different solution methods and for a variety of different step sizes. Compare with the analytic solution to calculate the mean absolute error for a given method and step size."
   ]
  },
  {
   "cell_type": "code",
   "execution_count": null,
   "metadata": {
    "scrolled": false
   },
   "outputs": [],
   "source": [
    "from functions_engsci331_ode import demo_error\n",
    "demo_error()\n",
    "\n",
    "# OPTIONS\n",
    "#\n",
    "# Left column\n",
    "# Number Steps: the error is evaluated at y(Time End) for this range of number of steps taken.\n",
    "#               The step size will decrease as number of steps increases \n",
    "# Time End: the time at which to stop evaluating the numerical solution i.e. t in interval [0, tend] \n",
    "#\n",
    "# Middle column\n",
    "# Derivative: choose from several different derivative functions.\n",
    "#\n",
    "# Right column\n",
    "# Euler Method: evaluate the mean absolute error for the Euler method.\n",
    "# Improved Euler Method: evaluate the mean absolute error for the improved Euler method.\n",
    "# RK4 Method: evaluate the mean absolute error for the classic RK4 method."
   ]
  },
  {
   "cell_type": "code",
   "execution_count": null,
   "metadata": {},
   "outputs": [],
   "source": []
  }
 ],
 "metadata": {
  "kernelspec": {
   "display_name": "Python 3",
   "language": "python",
   "name": "python3"
  },
  "language_info": {
   "codemirror_mode": {
    "name": "ipython",
    "version": 3
   },
   "file_extension": ".py",
   "mimetype": "text/x-python",
   "name": "python",
   "nbconvert_exporter": "python",
   "pygments_lexer": "ipython3",
   "version": "3.6.5"
  },
  "widgets": {
   "state": {
    "b4f932f52a0647cf842e39a19ca04c91": {
     "views": [
      {
       "cell_index": 1
      }
     ]
    }
   },
   "version": "1.2.0"
  }
 },
 "nbformat": 4,
 "nbformat_minor": 2
}
